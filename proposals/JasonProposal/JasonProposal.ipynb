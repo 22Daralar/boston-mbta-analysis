{
 "cells": [
  {
   "cell_type": "markdown",
   "metadata": {},
   "source": [
    "# Phase I: Project Proposal and Data Sources (5\\%)\n",
    "\n",
    "### Due (Each Student): October 4\n",
    "\n",
    "Each **individual student** will submit a project proposal in a **jupyter notebook** which:\n",
    "\n",
    "1. (2\\%) Describes and motivates a real-world problem where data science may provide helpful insights. This problem must consist of at least two key questions of interest and your description of the problem and questions should be easily understood by a casual reader. Citations to motivating sources are preferred where possible (e.g. news articles, published papers, etc. Do not use Wikipedia itself, but the links Wikipedia articles cite may be useful)\n",
    "\n",
    "2. (2\\%) Explicity state source and load data (does not have to be clean) from data source:\n",
    "   * Data must include at least **2 numeric** (e.g. number of friends, height, gpa, temperature, etc.) and **1 categorical** (e.g. color, class, car type, etc.) features\n",
    "   * Data **MUST BE COLLECTED VIA PYTHON, EITHER WITH AN API OR VIA WEB SCRAPING**. You may **NOT** simply download a .csv file\n",
    "     * Once you have succesfully collected, curated, cleaned the data, you may save it as a .csv or .json in your GitHub repo and call that final data set when implementing the ML (i.e. you do not have to call the API/do the web scraping every time you want to use the data).\n",
    "\n",
    "4. (1\\%) Write a paragraph about how the data will be used to solve the problem and your two questions of interest. At this point of the semester, we haven't studied the machine learning methods yet, but you should have a general idea of what you can do with ML (predict numerical values, predict class labels, or characterize relationships between features). If you do not, ask a TA or the professor or do a little googling."
   ]
  },
  {
   "cell_type": "markdown",
   "metadata": {},
   "source": [
    "### **1. Project Proposal: Analyzing Public Transportation Commute Times**\n",
    "\n",
    "#### **Problem Description and Motivation (2%)**\n",
    "\n",
    "The Metropolitan Transportation Authority (MTA) in New York City is important for getting millions of people around the city every day. However, the subway system faces a lot of problems, such as delays, overcrowding, and service interruptions. These issues not only frustrate riders but also impact the city’s economy. By diving into the data behind the MTA's operations, we might find patterns or causes for some of these problems and even identify potential solutions.\n",
    "\n",
    "Key Questions of Interest:\n",
    "1. What are the main causes of delays in the subway system, and how can we address them? \n",
    "   - Delays can happen for a lot of reasons; mechanical breakdowns, signal problems, weather conditions, or just rush-hour crowds. Finding out which of these factors are the biggest contributors could help make things run smoother.\n",
    "\n",
    "2. How does subway ridership change at different times, days, or on different lines?\n",
    "   - By understanding when and where people use the subway most, we can spot patterns that might help with resource planning, like knowing when to add more trains or where to focus repairs and upgrades.\n",
    "\n",
    "Citations\n",
    "- https://www.nytimes.com/interactive/2017/06/28/nyregion/subway-delays-overcrowding.html"
   ]
  },
  {
   "cell_type": "markdown",
   "metadata": {},
   "source": [
    "### 2. Data Source and Collection (2%)\n",
    "\n",
    "Data Source:\n",
    "The data for this project is sourced from the MTA’s Subway Real-Time Feeds available at the URL: https://api-endpoint.mta.info/Dataservice/mtagtfsfeeds/nyct%2Fgtfs-bdfm. This provides real-time information on train locations, service statuses, and delays.\n",
    "\n",
    "Data Features:\n",
    "- Numerical Data:\n",
    "1. Train Headways: Time intervals between consecutive trains on a given line, which can be calculated to analyze congestion and train frequency.\n",
    "2. Train Delays: The duration of delays reported in real-time feeds, providing insights into subway performance.\n",
    "- Categorical Data:\n",
    "1. Train Line: Identifiers for different subway lines (e.g., B, D, F, M).\n",
    "\n",
    "Data Collection Method:\n",
    "We will use Python to collect data from the MTA's real-time feed endpoint. The requests library will be used to make HTTP requests to the URL, and gtfs-realtime-bindings will parse the response. The collected data will be stored in a pandas DataFrame and saved as a CSV file for further analysis."
   ]
  },
  {
   "cell_type": "code",
   "execution_count": 1,
   "metadata": {},
   "outputs": [
    {
     "name": "stderr",
     "output_type": "stream",
     "text": [
      "/Users/jasonlam/Library/Python/3.9/lib/python/site-packages/urllib3/__init__.py:35: NotOpenSSLWarning: urllib3 v2 only supports OpenSSL 1.1.1+, currently the 'ssl' module is compiled with 'LibreSSL 2.8.3'. See: https://github.com/urllib3/urllib3/issues/3020\n",
      "  warnings.warn(\n"
     ]
    },
    {
     "name": "stdout",
     "output_type": "stream",
     "text": [
      "  train_line start_time         arrival_time  delay\n",
      "0          B   21:17:20  2024-10-04 22:30:39    0.0\n",
      "1                                       None    NaN\n",
      "2          D   20:42:30  2024-10-04 22:30:36    0.0\n",
      "3                                       None    NaN\n",
      "4          D   20:57:00  2024-10-04 22:30:39    0.0\n"
     ]
    }
   ],
   "source": [
    "import requests\n",
    "import pandas as pd\n",
    "from google.transit import gtfs_realtime_pb2\n",
    "from datetime import datetime\n",
    "\n",
    "# MTA data feed URL\n",
    "URL = 'https://api-endpoint.mta.info/Dataservice/mtagtfsfeeds/nyct%2Fgtfs-bdfm'\n",
    "\n",
    "def fetch_mta_data():\n",
    "    response = requests.get(URL)\n",
    "    \n",
    "    if response.status_code == 200:\n",
    "        # Parse the GTFS data\n",
    "        feed = gtfs_realtime_pb2.FeedMessage()\n",
    "        feed.ParseFromString(response.content)\n",
    "        \n",
    "        data = []\n",
    "        \n",
    "        for entity in feed.entity:\n",
    "            if entity.trip_update:\n",
    "                train_info = {\n",
    "                    'train_line': entity.trip_update.trip.route_id,  # Categorical data: Train Line\n",
    "                    'start_time': entity.trip_update.trip.start_time,\n",
    "                    'arrival_time': None,\n",
    "                    'delay': None  # Numerical data: Train Delay\n",
    "                }\n",
    "                \n",
    "                # Extract the first stop update (if available)\n",
    "                if entity.trip_update.stop_time_update:\n",
    "                    stop_update = entity.trip_update.stop_time_update[0]\n",
    "                    train_info['arrival_time'] = datetime.fromtimestamp(\n",
    "                        stop_update.arrival.time).strftime('%Y-%m-%d %H:%M:%S')\n",
    "                    train_info['delay'] = stop_update.arrival.delay if stop_update.arrival.HasField('delay') else 0\n",
    "                \n",
    "                data.append(train_info)\n",
    "        \n",
    "        return pd.DataFrame(data)\n",
    "    else:\n",
    "        print(f\"Failed to fetch data: {response.status_code}\")\n",
    "        return None\n",
    "\n",
    "# Fetch the data\n",
    "mta_data = fetch_mta_data()\n",
    "\n",
    "# Check if data was successfully retrieved\n",
    "if mta_data is not None:\n",
    "    # Save the data to a CSV file for later use\n",
    "    mta_data.to_csv('mta_real_time_data.csv', index=False)\n",
    "    print(mta_data.head())\n",
    "else:\n",
    "    print(\"No data to load.\")\n"
   ]
  },
  {
   "cell_type": "markdown",
   "metadata": {},
   "source": [
    "### 3. How the Data Will Be Used (1%)\n",
    "\n",
    "The data collected from the MTA real-time feed for subway lines B, D, F, and M provides valuable information into train performance and delay patterns. This dataset, which includes features such as train line identifiers, arrival times, and delay durations, allows us to explore two key questions: (1) What are the primary factors contributing to train delays? (2) How does train performance vary across different times of day? By analyzing the arrival times and delay durations, we can identify peak hours and trends that may contribute to train delays, such as increased congestion during rush hours or technical issues at certain times. Furthermore, this data enables us to build models to predict delays based on historical patterns, providing useful information for MTA scheduling and resource allocation. Using machine learning techniques, we can also explore relationships between train lines and their performance, helping to identify which lines may require additional support to improve service quality.\n"
   ]
  }
 ],
 "metadata": {
  "kernelspec": {
   "display_name": "Python 3",
   "language": "python",
   "name": "python3"
  },
  "language_info": {
   "codemirror_mode": {
    "name": "ipython",
    "version": 3
   },
   "file_extension": ".py",
   "mimetype": "text/x-python",
   "name": "python",
   "nbconvert_exporter": "python",
   "pygments_lexer": "ipython3",
   "version": "3.9.6"
  },
  "orig_nbformat": 4
 },
 "nbformat": 4,
 "nbformat_minor": 2
}
