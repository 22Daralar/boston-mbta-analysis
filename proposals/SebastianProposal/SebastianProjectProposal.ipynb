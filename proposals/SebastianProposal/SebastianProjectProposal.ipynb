{
 "cells": [
  {
   "cell_type": "markdown",
   "metadata": {},
   "source": [
    "## Problem:\n",
    "\n",
    "Boston's South End, Brooklyn New York, Brickell Miami. These are all well known examples of the radical change that is spurred by Gentrification. Gentrification is the process of character change in an urban area due to a rapid introduction of buisnesses, wealthier people, and improved housing. Gentrification poses a incredible opportunity for many people to cash in, one of the most notable cases is Real Estate. Property values in a gentrifying neighborhood skyrocket throughout the process, and gentrification always happens in cheaper areas meaning that if you can get ahead of the wave of gentrification there is opportunity for a lot of incredible real estate investments."
   ]
  },
  {
   "cell_type": "markdown",
   "metadata": {},
   "source": [
    "## Aims:\n",
    "Data Science can absolutely help in providing insights as to potential candidates for gentrification. In my study of this problem I will focus on the following:\n",
    "\n",
    "1. How have property prices changed in neighborhoods undergoing gentrification compared to non-gentrified areas?\n",
    "\n",
    "2. What are the early indicators of gentrification, and can we predict which neighborhoods will see price increases in the next few years?"
   ]
  },
  {
   "cell_type": "markdown",
   "metadata": {},
   "source": [
    "## Data:\n",
    "I will use the following data:\n",
    "1. Historical Median Sales Prices by Regions (Numeric)\n",
    "2. Income (Numeric)\n",
    "3. Population (Numeric)\n",
    "4. Housing Characteristics (Categorical)\n",
    "5. Crime & Safety Data (Numeric)\n",
    "\n",
    "I will choose a few select neighborhoods/regions to examine for this study.\n",
    "\n",
    "#### Obtaining Data:\n",
    "I will get #1 via webscraping Redfin's Data Center. #2-4 via a US Census api. #5 via either an FBI Crime Report api or another api called Crimeometer\n",
    "\n",
    "\n",
    "Sources:\n",
    "- [Redfin Data Center](https://www.redfin.com/news/data-center/)\n",
    "- [US Census api](https://www.census.gov/data/developers/guidance/api-user-guide.html)\n",
    "- [FBI Crime Report api](https://www.justice.gov/developer)\n",
    "- [Crimeometer](https://www.crimeometer.com/)"
   ]
  },
  {
   "cell_type": "markdown",
   "metadata": {},
   "source": [
    "In this project, I'll use the data to analyze and predict gentrification patterns in selected neighborhoods. By looking at historical median sales prices, I aim to spot trends in property values and see if these areas are becoming more desirable. The first question will focus on how rising median sales prices relate to socio-economic factors like income and population changes from U.S. Census data. The second question will examine the connection between crime rates and gentrification, exploring whether areas with new residents also see shifts in safety metrics. I plan to use predictive modeling to forecast property price changes based on the relationships/correlations I find. This will help better understand urban gentrification."
   ]
  }
 ],
 "metadata": {
  "language_info": {
   "name": "python"
  }
 },
 "nbformat": 4,
 "nbformat_minor": 2
}
